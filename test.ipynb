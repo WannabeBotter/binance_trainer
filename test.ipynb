{
 "cells": [
  {
   "cell_type": "code",
   "execution_count": 2,
   "metadata": {},
   "outputs": [],
   "source": [
    "import polars as pl"
   ]
  },
  {
   "cell_type": "code",
   "execution_count": 3,
   "metadata": {},
   "outputs": [
    {
     "data": {
      "text/html": [
       "<div><style>\n",
       ".dataframe > thead > tr > th,\n",
       ".dataframe > tbody > tr > td {\n",
       "  text-align: right;\n",
       "}\n",
       "</style>\n",
       "<small>shape: (126263633, 9)</small><table border=\"1\" class=\"dataframe\"><thead><tr><th>symbol</th><th>timestamp</th><th>first_update_id</th><th>last_update_id</th><th>side</th><th>update_type</th><th>price</th><th>qty</th><th>pu</th></tr><tr><td>str</td><td>i64</td><td>i64</td><td>i64</td><td>str</td><td>str</td><td>f64</td><td>f64</td><td>i64</td></tr></thead><tbody><tr><td>&quot;BTCUSDT&quot;</td><td>1681084800054</td><td>2724114000541</td><td>2724114006172</td><td>&quot;a&quot;</td><td>&quot;set&quot;</td><td>28310.0</td><td>6.489</td><td>2724114000535</td></tr><tr><td>&quot;BTCUSDT&quot;</td><td>1681084800054</td><td>2724114000541</td><td>2724114006172</td><td>&quot;a&quot;</td><td>&quot;set&quot;</td><td>28310.9</td><td>0.001</td><td>2724114000535</td></tr><tr><td>&quot;BTCUSDT&quot;</td><td>1681084800054</td><td>2724114000541</td><td>2724114006172</td><td>&quot;a&quot;</td><td>&quot;set&quot;</td><td>28311.4</td><td>0.033</td><td>2724114000535</td></tr><tr><td>&quot;BTCUSDT&quot;</td><td>1681084800054</td><td>2724114000541</td><td>2724114006172</td><td>&quot;a&quot;</td><td>&quot;set&quot;</td><td>28312.7</td><td>0.721</td><td>2724114000535</td></tr><tr><td>&quot;BTCUSDT&quot;</td><td>1681084800054</td><td>2724114000541</td><td>2724114006172</td><td>&quot;a&quot;</td><td>&quot;set&quot;</td><td>28312.8</td><td>0.038</td><td>2724114000535</td></tr><tr><td>&quot;BTCUSDT&quot;</td><td>1681084800054</td><td>2724114000541</td><td>2724114006172</td><td>&quot;a&quot;</td><td>&quot;set&quot;</td><td>28314.4</td><td>0.002</td><td>2724114000535</td></tr><tr><td>&quot;BTCUSDT&quot;</td><td>1681084800054</td><td>2724114000541</td><td>2724114006172</td><td>&quot;a&quot;</td><td>&quot;set&quot;</td><td>28314.9</td><td>0.064</td><td>2724114000535</td></tr><tr><td>&quot;BTCUSDT&quot;</td><td>1681084800054</td><td>2724114000541</td><td>2724114006172</td><td>&quot;a&quot;</td><td>&quot;set&quot;</td><td>28315.1</td><td>2.017</td><td>2724114000535</td></tr><tr><td>&quot;BTCUSDT&quot;</td><td>1681084800054</td><td>2724114000541</td><td>2724114006172</td><td>&quot;a&quot;</td><td>&quot;set&quot;</td><td>28315.2</td><td>5.867</td><td>2724114000535</td></tr><tr><td>&quot;BTCUSDT&quot;</td><td>1681084800054</td><td>2724114000541</td><td>2724114006172</td><td>&quot;a&quot;</td><td>&quot;set&quot;</td><td>28315.9</td><td>0.111</td><td>2724114000535</td></tr><tr><td>&quot;BTCUSDT&quot;</td><td>1681084800054</td><td>2724114000541</td><td>2724114006172</td><td>&quot;a&quot;</td><td>&quot;set&quot;</td><td>28316.2</td><td>0.354</td><td>2724114000535</td></tr><tr><td>&quot;BTCUSDT&quot;</td><td>1681084800054</td><td>2724114000541</td><td>2724114006172</td><td>&quot;a&quot;</td><td>&quot;set&quot;</td><td>28316.6</td><td>0.0</td><td>2724114000535</td></tr><tr><td>&hellip;</td><td>&hellip;</td><td>&hellip;</td><td>&hellip;</td><td>&hellip;</td><td>&hellip;</td><td>&hellip;</td><td>&hellip;</td><td>&hellip;</td></tr><tr><td>&quot;BTCUSDT&quot;</td><td>1681171199970</td><td>2726954412292</td><td>2726954415392</td><td>&quot;b&quot;</td><td>&quot;set&quot;</td><td>29423.1</td><td>0.129</td><td>2726954412227</td></tr><tr><td>&quot;BTCUSDT&quot;</td><td>1681171199970</td><td>2726954412292</td><td>2726954415392</td><td>&quot;b&quot;</td><td>&quot;set&quot;</td><td>29475.0</td><td>1.976</td><td>2726954412227</td></tr><tr><td>&quot;BTCUSDT&quot;</td><td>1681171199970</td><td>2726954412292</td><td>2726954415392</td><td>&quot;b&quot;</td><td>&quot;set&quot;</td><td>29479.4</td><td>0.206</td><td>2726954412227</td></tr><tr><td>&quot;BTCUSDT&quot;</td><td>1681171199970</td><td>2726954412292</td><td>2726954415392</td><td>&quot;b&quot;</td><td>&quot;set&quot;</td><td>29483.7</td><td>0.294</td><td>2726954412227</td></tr><tr><td>&quot;BTCUSDT&quot;</td><td>1681171199970</td><td>2726954412292</td><td>2726954415392</td><td>&quot;b&quot;</td><td>&quot;set&quot;</td><td>29516.4</td><td>0.237</td><td>2726954412227</td></tr><tr><td>&quot;BTCUSDT&quot;</td><td>1681171199970</td><td>2726954412292</td><td>2726954415392</td><td>&quot;b&quot;</td><td>&quot;set&quot;</td><td>29549.1</td><td>8.904</td><td>2726954412227</td></tr><tr><td>&quot;BTCUSDT&quot;</td><td>1681171199970</td><td>2726954412292</td><td>2726954415392</td><td>&quot;b&quot;</td><td>&quot;set&quot;</td><td>29553.3</td><td>0.124</td><td>2726954412227</td></tr><tr><td>&quot;BTCUSDT&quot;</td><td>1681171199970</td><td>2726954412292</td><td>2726954415392</td><td>&quot;b&quot;</td><td>&quot;set&quot;</td><td>29586.2</td><td>6.0</td><td>2726954412227</td></tr><tr><td>&quot;BTCUSDT&quot;</td><td>1681171199970</td><td>2726954412292</td><td>2726954415392</td><td>&quot;b&quot;</td><td>&quot;set&quot;</td><td>29613.4</td><td>0.001</td><td>2726954412227</td></tr><tr><td>&quot;BTCUSDT&quot;</td><td>1681171199970</td><td>2726954412292</td><td>2726954415392</td><td>&quot;b&quot;</td><td>&quot;set&quot;</td><td>29614.0</td><td>1.574</td><td>2726954412227</td></tr><tr><td>&quot;BTCUSDT&quot;</td><td>1681171199970</td><td>2726954412292</td><td>2726954415392</td><td>&quot;b&quot;</td><td>&quot;set&quot;</td><td>29622.2</td><td>0.084</td><td>2726954412227</td></tr><tr><td>&quot;BTCUSDT&quot;</td><td>1681171199970</td><td>2726954412292</td><td>2726954415392</td><td>&quot;b&quot;</td><td>&quot;set&quot;</td><td>29623.1</td><td>5.652</td><td>2726954412227</td></tr></tbody></table></div>"
      ],
      "text/plain": [
       "shape: (126_263_633, 9)\n",
       "┌─────────┬──────────────┬────────────┬────────────┬───┬───────────┬─────────┬───────┬─────────────┐\n",
       "│ symbol  ┆ timestamp    ┆ first_upda ┆ last_updat ┆ … ┆ update_ty ┆ price   ┆ qty   ┆ pu          │\n",
       "│ ---     ┆ ---          ┆ te_id      ┆ e_id       ┆   ┆ pe        ┆ ---     ┆ ---   ┆ ---         │\n",
       "│ str     ┆ i64          ┆ ---        ┆ ---        ┆   ┆ ---       ┆ f64     ┆ f64   ┆ i64         │\n",
       "│         ┆              ┆ i64        ┆ i64        ┆   ┆ str       ┆         ┆       ┆             │\n",
       "╞═════════╪══════════════╪════════════╪════════════╪═══╪═══════════╪═════════╪═══════╪═════════════╡\n",
       "│ BTCUSDT ┆ 168108480005 ┆ 2724114000 ┆ 2724114006 ┆ … ┆ set       ┆ 28310.0 ┆ 6.489 ┆ 27241140005 │\n",
       "│         ┆ 4            ┆ 541        ┆ 172        ┆   ┆           ┆         ┆       ┆ 35          │\n",
       "│ BTCUSDT ┆ 168108480005 ┆ 2724114000 ┆ 2724114006 ┆ … ┆ set       ┆ 28310.9 ┆ 0.001 ┆ 27241140005 │\n",
       "│         ┆ 4            ┆ 541        ┆ 172        ┆   ┆           ┆         ┆       ┆ 35          │\n",
       "│ BTCUSDT ┆ 168108480005 ┆ 2724114000 ┆ 2724114006 ┆ … ┆ set       ┆ 28311.4 ┆ 0.033 ┆ 27241140005 │\n",
       "│         ┆ 4            ┆ 541        ┆ 172        ┆   ┆           ┆         ┆       ┆ 35          │\n",
       "│ BTCUSDT ┆ 168108480005 ┆ 2724114000 ┆ 2724114006 ┆ … ┆ set       ┆ 28312.7 ┆ 0.721 ┆ 27241140005 │\n",
       "│         ┆ 4            ┆ 541        ┆ 172        ┆   ┆           ┆         ┆       ┆ 35          │\n",
       "│ …       ┆ …            ┆ …          ┆ …          ┆ … ┆ …         ┆ …       ┆ …     ┆ …           │\n",
       "│ BTCUSDT ┆ 168117119997 ┆ 2726954412 ┆ 2726954415 ┆ … ┆ set       ┆ 29613.4 ┆ 0.001 ┆ 27269544122 │\n",
       "│         ┆ 0            ┆ 292        ┆ 392        ┆   ┆           ┆         ┆       ┆ 27          │\n",
       "│ BTCUSDT ┆ 168117119997 ┆ 2726954412 ┆ 2726954415 ┆ … ┆ set       ┆ 29614.0 ┆ 1.574 ┆ 27269544122 │\n",
       "│         ┆ 0            ┆ 292        ┆ 392        ┆   ┆           ┆         ┆       ┆ 27          │\n",
       "│ BTCUSDT ┆ 168117119997 ┆ 2726954412 ┆ 2726954415 ┆ … ┆ set       ┆ 29622.2 ┆ 0.084 ┆ 27269544122 │\n",
       "│         ┆ 0            ┆ 292        ┆ 392        ┆   ┆           ┆         ┆       ┆ 27          │\n",
       "│ BTCUSDT ┆ 168117119997 ┆ 2726954412 ┆ 2726954415 ┆ … ┆ set       ┆ 29623.1 ┆ 5.652 ┆ 27269544122 │\n",
       "│         ┆ 0            ┆ 292        ┆ 392        ┆   ┆           ┆         ┆       ┆ 27          │\n",
       "└─────────┴──────────────┴────────────┴────────────┴───┴───────────┴─────────┴───────┴─────────────┘"
      ]
     },
     "execution_count": 3,
     "metadata": {},
     "output_type": "execute_result"
    }
   ],
   "source": [
    "pl.read_parquet(\"/home/jovyan/work/binance_trainer/data/BTCUSDT_T_DEPTH_2023-04-10_depth_update.parquet\")"
   ]
  },
  {
   "cell_type": "code",
   "execution_count": 9,
   "metadata": {},
   "outputs": [
    {
     "data": {
      "text/html": [
       "<div><style>\n",
       ".dataframe > thead > tr > th,\n",
       ".dataframe > tbody > tr > td {\n",
       "  text-align: right;\n",
       "}\n",
       "</style>\n",
       "<small>shape: (2401479, 9)</small><table border=\"1\" class=\"dataframe\"><thead><tr><th>symbol</th><th>timestamp</th><th>first_update_id</th><th>last_update_id</th><th>side</th><th>update_type</th><th>price</th><th>qty</th><th>pu</th></tr><tr><td>str</td><td>i64</td><td>i64</td><td>i64</td><td>str</td><td>str</td><td>f64</td><td>f64</td><td>i64</td></tr></thead><tbody><tr><td>&quot;BTCUSDT&quot;</td><td>1680307200165</td><td>3520593366</td><td>3520593366</td><td>&quot;a&quot;</td><td>&quot;trade&quot;</td><td>28454.8</td><td>0.027</td><td>3520593365</td></tr><tr><td>&quot;BTCUSDT&quot;</td><td>1680307200165</td><td>3520593367</td><td>3520593367</td><td>&quot;a&quot;</td><td>&quot;trade&quot;</td><td>28454.8</td><td>0.005</td><td>3520593366</td></tr><tr><td>&quot;BTCUSDT&quot;</td><td>1680307200165</td><td>3520593368</td><td>3520593368</td><td>&quot;a&quot;</td><td>&quot;trade&quot;</td><td>28454.8</td><td>0.022</td><td>3520593367</td></tr><tr><td>&quot;BTCUSDT&quot;</td><td>1680307200183</td><td>3520593369</td><td>3520593369</td><td>&quot;a&quot;</td><td>&quot;trade&quot;</td><td>28454.8</td><td>0.004</td><td>3520593368</td></tr><tr><td>&quot;BTCUSDT&quot;</td><td>1680307200718</td><td>3520593370</td><td>3520593370</td><td>&quot;a&quot;</td><td>&quot;trade&quot;</td><td>28454.8</td><td>0.067</td><td>3520593369</td></tr><tr><td>&quot;BTCUSDT&quot;</td><td>1680307200718</td><td>3520593371</td><td>3520593371</td><td>&quot;a&quot;</td><td>&quot;trade&quot;</td><td>28454.8</td><td>0.002</td><td>3520593370</td></tr><tr><td>&quot;BTCUSDT&quot;</td><td>1680307200718</td><td>3520593372</td><td>3520593372</td><td>&quot;a&quot;</td><td>&quot;trade&quot;</td><td>28454.8</td><td>0.031</td><td>3520593371</td></tr><tr><td>&quot;BTCUSDT&quot;</td><td>1680307200739</td><td>3520593373</td><td>3520593373</td><td>&quot;b&quot;</td><td>&quot;trade&quot;</td><td>28454.9</td><td>0.026</td><td>3520593372</td></tr><tr><td>&quot;BTCUSDT&quot;</td><td>1680307200739</td><td>3520593374</td><td>3520593374</td><td>&quot;b&quot;</td><td>&quot;trade&quot;</td><td>28454.9</td><td>0.003</td><td>3520593373</td></tr><tr><td>&quot;BTCUSDT&quot;</td><td>1680307200742</td><td>3520593375</td><td>3520593375</td><td>&quot;b&quot;</td><td>&quot;trade&quot;</td><td>28454.9</td><td>0.003</td><td>3520593374</td></tr><tr><td>&quot;BTCUSDT&quot;</td><td>1680307200745</td><td>3520593376</td><td>3520593376</td><td>&quot;a&quot;</td><td>&quot;trade&quot;</td><td>28454.8</td><td>0.067</td><td>3520593375</td></tr><tr><td>&quot;BTCUSDT&quot;</td><td>1680307200745</td><td>3520593377</td><td>3520593377</td><td>&quot;a&quot;</td><td>&quot;trade&quot;</td><td>28454.8</td><td>0.063</td><td>3520593376</td></tr><tr><td>&hellip;</td><td>&hellip;</td><td>&hellip;</td><td>&hellip;</td><td>&hellip;</td><td>&hellip;</td><td>&hellip;</td><td>&hellip;</td><td>&hellip;</td></tr><tr><td>&quot;BTCUSDT&quot;</td><td>1680393597716</td><td>3522994865</td><td>3522994865</td><td>&quot;b&quot;</td><td>&quot;trade&quot;</td><td>28443.8</td><td>0.012</td><td>3522994864</td></tr><tr><td>&quot;BTCUSDT&quot;</td><td>1680393598240</td><td>3522994866</td><td>3522994866</td><td>&quot;a&quot;</td><td>&quot;trade&quot;</td><td>28443.7</td><td>0.059</td><td>3522994865</td></tr><tr><td>&quot;BTCUSDT&quot;</td><td>1680393598418</td><td>3522994867</td><td>3522994867</td><td>&quot;b&quot;</td><td>&quot;trade&quot;</td><td>28443.8</td><td>0.001</td><td>3522994866</td></tr><tr><td>&quot;BTCUSDT&quot;</td><td>1680393598427</td><td>3522994868</td><td>3522994868</td><td>&quot;a&quot;</td><td>&quot;trade&quot;</td><td>28443.7</td><td>0.097</td><td>3522994867</td></tr><tr><td>&quot;BTCUSDT&quot;</td><td>1680393598467</td><td>3522994869</td><td>3522994869</td><td>&quot;a&quot;</td><td>&quot;trade&quot;</td><td>28443.7</td><td>0.147</td><td>3522994868</td></tr><tr><td>&quot;BTCUSDT&quot;</td><td>1680393598623</td><td>3522994870</td><td>3522994870</td><td>&quot;b&quot;</td><td>&quot;trade&quot;</td><td>28443.8</td><td>0.002</td><td>3522994869</td></tr><tr><td>&quot;BTCUSDT&quot;</td><td>1680393598824</td><td>3522994871</td><td>3522994871</td><td>&quot;b&quot;</td><td>&quot;trade&quot;</td><td>28443.8</td><td>0.001</td><td>3522994870</td></tr><tr><td>&quot;BTCUSDT&quot;</td><td>1680393598841</td><td>3522994872</td><td>3522994872</td><td>&quot;b&quot;</td><td>&quot;trade&quot;</td><td>28443.8</td><td>0.001</td><td>3522994871</td></tr><tr><td>&quot;BTCUSDT&quot;</td><td>1680393599029</td><td>3522994873</td><td>3522994873</td><td>&quot;b&quot;</td><td>&quot;trade&quot;</td><td>28443.8</td><td>0.002</td><td>3522994872</td></tr><tr><td>&quot;BTCUSDT&quot;</td><td>1680393599130</td><td>3522994874</td><td>3522994874</td><td>&quot;b&quot;</td><td>&quot;trade&quot;</td><td>28443.8</td><td>0.001</td><td>3522994873</td></tr><tr><td>&quot;BTCUSDT&quot;</td><td>1680393599602</td><td>3522994875</td><td>3522994875</td><td>&quot;b&quot;</td><td>&quot;trade&quot;</td><td>28443.8</td><td>0.634</td><td>3522994874</td></tr><tr><td>&quot;BTCUSDT&quot;</td><td>1680393599737</td><td>3522994876</td><td>3522994876</td><td>&quot;b&quot;</td><td>&quot;trade&quot;</td><td>28443.8</td><td>0.011</td><td>3522994875</td></tr></tbody></table></div>"
      ],
      "text/plain": [
       "shape: (2_401_479, 9)\n",
       "┌─────────┬─────────────┬────────────┬────────────┬───┬─────────────┬─────────┬───────┬────────────┐\n",
       "│ symbol  ┆ timestamp   ┆ first_upda ┆ last_updat ┆ … ┆ update_type ┆ price   ┆ qty   ┆ pu         │\n",
       "│ ---     ┆ ---         ┆ te_id      ┆ e_id       ┆   ┆ ---         ┆ ---     ┆ ---   ┆ ---        │\n",
       "│ str     ┆ i64         ┆ ---        ┆ ---        ┆   ┆ str         ┆ f64     ┆ f64   ┆ i64        │\n",
       "│         ┆             ┆ i64        ┆ i64        ┆   ┆             ┆         ┆       ┆            │\n",
       "╞═════════╪═════════════╪════════════╪════════════╪═══╪═════════════╪═════════╪═══════╪════════════╡\n",
       "│ BTCUSDT ┆ 16803072001 ┆ 3520593366 ┆ 3520593366 ┆ … ┆ trade       ┆ 28454.8 ┆ 0.027 ┆ 3520593365 │\n",
       "│         ┆ 65          ┆            ┆            ┆   ┆             ┆         ┆       ┆            │\n",
       "│ BTCUSDT ┆ 16803072001 ┆ 3520593367 ┆ 3520593367 ┆ … ┆ trade       ┆ 28454.8 ┆ 0.005 ┆ 3520593366 │\n",
       "│         ┆ 65          ┆            ┆            ┆   ┆             ┆         ┆       ┆            │\n",
       "│ BTCUSDT ┆ 16803072001 ┆ 3520593368 ┆ 3520593368 ┆ … ┆ trade       ┆ 28454.8 ┆ 0.022 ┆ 3520593367 │\n",
       "│         ┆ 65          ┆            ┆            ┆   ┆             ┆         ┆       ┆            │\n",
       "│ BTCUSDT ┆ 16803072001 ┆ 3520593369 ┆ 3520593369 ┆ … ┆ trade       ┆ 28454.8 ┆ 0.004 ┆ 3520593368 │\n",
       "│         ┆ 83          ┆            ┆            ┆   ┆             ┆         ┆       ┆            │\n",
       "│ …       ┆ …           ┆ …          ┆ …          ┆ … ┆ …           ┆ …       ┆ …     ┆ …          │\n",
       "│ BTCUSDT ┆ 16803935990 ┆ 3522994873 ┆ 3522994873 ┆ … ┆ trade       ┆ 28443.8 ┆ 0.002 ┆ 3522994872 │\n",
       "│         ┆ 29          ┆            ┆            ┆   ┆             ┆         ┆       ┆            │\n",
       "│ BTCUSDT ┆ 16803935991 ┆ 3522994874 ┆ 3522994874 ┆ … ┆ trade       ┆ 28443.8 ┆ 0.001 ┆ 3522994873 │\n",
       "│         ┆ 30          ┆            ┆            ┆   ┆             ┆         ┆       ┆            │\n",
       "│ BTCUSDT ┆ 16803935996 ┆ 3522994875 ┆ 3522994875 ┆ … ┆ trade       ┆ 28443.8 ┆ 0.634 ┆ 3522994874 │\n",
       "│         ┆ 02          ┆            ┆            ┆   ┆             ┆         ┆       ┆            │\n",
       "│ BTCUSDT ┆ 16803935997 ┆ 3522994876 ┆ 3522994876 ┆ … ┆ trade       ┆ 28443.8 ┆ 0.011 ┆ 3522994875 │\n",
       "│         ┆ 37          ┆            ┆            ┆   ┆             ┆         ┆       ┆            │\n",
       "└─────────┴─────────────┴────────────┴────────────┴───┴─────────────┴─────────┴───────┴────────────┘"
      ]
     },
     "execution_count": 9,
     "metadata": {},
     "output_type": "execute_result"
    }
   ],
   "source": [
    "pl.read_parquet(\"/home/jovyan/work/binance_trainer/data/BTCUSDT_TRADES_2023-04-01.parquet\")"
   ]
  },
  {
   "cell_type": "code",
   "execution_count": null,
   "metadata": {},
   "outputs": [],
   "source": []
  },
  {
   "cell_type": "code",
   "execution_count": null,
   "metadata": {},
   "outputs": [],
   "source": []
  }
 ],
 "metadata": {
  "kernelspec": {
   "display_name": "Python 3 (ipykernel)",
   "language": "python",
   "name": "python3"
  },
  "language_info": {
   "codemirror_mode": {
    "name": "ipython",
    "version": 3
   },
   "file_extension": ".py",
   "mimetype": "text/x-python",
   "name": "python",
   "nbconvert_exporter": "python",
   "pygments_lexer": "ipython3",
   "version": "3.10.6"
  },
  "orig_nbformat": 4
 },
 "nbformat": 4,
 "nbformat_minor": 2
}
